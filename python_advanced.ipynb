{
 "cells": [
  {
   "cell_type": "markdown",
   "metadata": {},
   "source": [
    "<a id=toc></a>\n",
    "# Table of Content\n",
    "1. [Basics](#section1)\n",
    "\n",
    "[Ref](https://www.youtube.com/playlist?list=PLqnslRFeH2UqLwzS0AwKDKLrpYBKzLBy2)"
   ]
  },
  {
   "cell_type": "markdown",
   "metadata": {},
   "source": [
    "## Collections -> counter, namedTuple, orderedDict, defaultDict, deque"
   ]
  },
  {
   "cell_type": "code",
   "execution_count": 1,
   "metadata": {},
   "outputs": [],
   "source": [
    "from collections import Counter"
   ]
  },
  {
   "cell_type": "code",
   "execution_count": 18,
   "metadata": {},
   "outputs": [
    {
     "name": "stdout",
     "output_type": "stream",
     "text": [
      "Counter({'a': 5, 'b': 4, 'c': 2})\n",
      "[('a', 5)]\n",
      "dict_keys(['a', 'b', 'c'])\n"
     ]
    }
   ],
   "source": [
    "ch = 'aaaaabbbbcc'\n",
    "count = Counter(ch)\n",
    "print(count)\n",
    "print(count.most_common(1))\n",
    "print(count.keys())"
   ]
  },
  {
   "cell_type": "code",
   "execution_count": 19,
   "metadata": {},
   "outputs": [],
   "source": [
    "from collections import namedtuple"
   ]
  },
  {
   "cell_type": "code",
   "execution_count": 28,
   "metadata": {},
   "outputs": [
    {
     "name": "stdout",
     "output_type": "stream",
     "text": [
      "Point(x=2, y=3)\n",
      "2 3\n"
     ]
    }
   ],
   "source": [
    "Point = namedtuple('Point', ['x','y'])\n",
    "pt = Point(2,3)\n",
    "print(pt)\n",
    "print(pt.x,pt.y)"
   ]
  },
  {
   "cell_type": "code",
   "execution_count": 29,
   "metadata": {},
   "outputs": [],
   "source": [
    "from collections import OrderedDict"
   ]
  },
  {
   "cell_type": "code",
   "execution_count": 30,
   "metadata": {},
   "outputs": [
    {
     "name": "stdout",
     "output_type": "stream",
     "text": [
      "OrderedDict([('b', 2), ('c', 3), ('d', 4), ('a', 1)])\n"
     ]
    }
   ],
   "source": [
    "ordered_dict = OrderedDict()\n",
    "ordered_dict['b'] = 2\n",
    "ordered_dict['c'] = 3\n",
    "ordered_dict['d'] = 4\n",
    "ordered_dict['a'] = 1\n",
    "print(ordered_dict)"
   ]
  },
  {
   "cell_type": "code",
   "execution_count": 36,
   "metadata": {},
   "outputs": [],
   "source": [
    "from collections import defaultdict\n",
    "import random"
   ]
  },
  {
   "cell_type": "code",
   "execution_count": 48,
   "metadata": {},
   "outputs": [
    {
     "name": "stdout",
     "output_type": "stream",
     "text": [
      "defaultdict(<class 'int'>, {'a': 1, 'b': 2})\n",
      "0\n"
     ]
    }
   ],
   "source": [
    "default_dict = defaultdict(int)\n",
    "# default_dict = defaultdict(lambda:random.randint(0,10))\n",
    "# default_dict = defaultdict(lambda:'vanilla')\n",
    "default_dict['a'] = 1\n",
    "default_dict['b'] = 2\n",
    "print(default_dict)\n",
    "print(default_dict['c'])"
   ]
  },
  {
   "cell_type": "code",
   "execution_count": 49,
   "metadata": {},
   "outputs": [],
   "source": [
    "from collections import deque"
   ]
  },
  {
   "cell_type": "code",
   "execution_count": 81,
   "metadata": {},
   "outputs": [
    {
     "name": "stdout",
     "output_type": "stream",
     "text": [
      "deque([1, 2, 3])\n",
      "deque([6, 5, 4, 1, 2, 3])\n",
      "deque([5, 4, 1, 2, 3])\n",
      "deque([2, 3, 5, 4, 1])\n",
      "deque([5, 4, 1, 2, 3])\n"
     ]
    }
   ],
   "source": [
    "#Its a double ended list where you can insert and delete items from start/end\n",
    "de = deque()\n",
    "de.append(2)\n",
    "de.append(3)\n",
    "de.appendleft(1)\n",
    "print(de)\n",
    "de.extendleft([4,5,6])\n",
    "print(de)\n",
    "de.popleft()\n",
    "print(de)\n",
    "de.rotate(2) # circular buffer\n",
    "print(de)\n",
    "de.rotate(-2)\n",
    "print(de)"
   ]
  },
  {
   "cell_type": "markdown",
   "metadata": {},
   "source": [
    "## Itertools -> product, permutations, combinations, accumulate, groupby, infinite iterator"
   ]
  },
  {
   "cell_type": "code",
   "execution_count": 54,
   "metadata": {},
   "outputs": [],
   "source": [
    "from itertools import product"
   ]
  },
  {
   "cell_type": "code",
   "execution_count": 58,
   "metadata": {},
   "outputs": [
    {
     "name": "stdout",
     "output_type": "stream",
     "text": [
      "[(1, 2), (1, 4), (3, 2), (3, 4)]\n"
     ]
    }
   ],
   "source": [
    "a = [1,3]\n",
    "b = [2,4]\n",
    "prod = product(a,b)\n",
    "# prod = product(a,b, repeat=2)\n",
    "print(list(prod))"
   ]
  },
  {
   "cell_type": "code",
   "execution_count": 59,
   "metadata": {},
   "outputs": [],
   "source": [
    "from itertools import permutations"
   ]
  },
  {
   "cell_type": "code",
   "execution_count": 66,
   "metadata": {},
   "outputs": [
    {
     "name": "stdout",
     "output_type": "stream",
     "text": [
      "[(1, 2), (1, 3), (2, 1), (2, 3), (3, 1), (3, 2)]\n"
     ]
    }
   ],
   "source": [
    "a = [1,2,3]\n",
    "# perm = permutations(a)\n",
    "perm = permutations(a, 2)\n",
    "print(list(perm))"
   ]
  },
  {
   "cell_type": "code",
   "execution_count": 71,
   "metadata": {},
   "outputs": [],
   "source": [
    "from itertools import combinations, combinations_with_replacement"
   ]
  },
  {
   "cell_type": "code",
   "execution_count": 73,
   "metadata": {},
   "outputs": [
    {
     "name": "stdout",
     "output_type": "stream",
     "text": [
      "[(1, 2), (1, 3), (1, 4), (2, 3), (2, 4), (3, 4)]\n",
      "[(1, 1), (1, 2), (1, 3), (1, 4), (2, 2), (2, 3), (2, 4), (3, 3), (3, 4), (4, 4)]\n"
     ]
    }
   ],
   "source": [
    "a = [1,2,3,4]\n",
    "comb = combinations(a, 2)\n",
    "print(list(comb))\n",
    "comb_wr = combinations_with_replacement(a, 2)\n",
    "print(list(comb_wr))"
   ]
  },
  {
   "cell_type": "code",
   "execution_count": 82,
   "metadata": {},
   "outputs": [],
   "source": [
    "from itertools import accumulate\n",
    "import operator"
   ]
  },
  {
   "cell_type": "code",
   "execution_count": 86,
   "metadata": {},
   "outputs": [
    {
     "name": "stdout",
     "output_type": "stream",
     "text": [
      "[1, 2, 3, 4]\n",
      "[1, 3, 6, 10]\n",
      "[1, 2, 6, 24]\n",
      "[1, 2, 5, 5, 5]\n"
     ]
    }
   ],
   "source": [
    "a = [1,2,3,4]\n",
    "acc = accumulate(a)\n",
    "print(a)\n",
    "print(list(acc))\n",
    "\n",
    "# You can also multiply\n",
    "acc = accumulate(a, func=operator.mul)\n",
    "print(list(acc))\n",
    "\n",
    "# You can also use custom function\n",
    "a = [1,2,5,3,4]\n",
    "acc = accumulate(a, func=max)\n",
    "print(list(acc))"
   ]
  },
  {
   "cell_type": "code",
   "execution_count": 87,
   "metadata": {},
   "outputs": [],
   "source": [
    "from itertools import groupby"
   ]
  },
  {
   "cell_type": "code",
   "execution_count": 110,
   "metadata": {},
   "outputs": [
    {
     "name": "stdout",
     "output_type": "stream",
     "text": [
      "True [1, 2]\n",
      "False [3, 4]\n",
      "25 [{'name': 'Tim', 'age': 25}, {'name': 'lisa', 'age': 25}]\n",
      "29 [{'name': 'andre', 'age': 29}]\n",
      "27 [{'name': 'john', 'age': 27}]\n"
     ]
    }
   ],
   "source": [
    "a = [1,2,3,4]\n",
    "# You can groupby condition or function\n",
    "def less_than_3(x):\n",
    "    return x < 3\n",
    "\n",
    "group_obj = groupby(a, key=less_than_3)\n",
    "# group_obj = groupby(a, key=lambda x:x<4)\n",
    "for a,b in group_obj:\n",
    "    print(a, list(b))\n",
    "    \n",
    "# You can work on data like pandas\n",
    "persons = [{'name':'Tim', 'age':25},{'name':'lisa', 'age':25},\n",
    "          {'name':'andre', 'age':29},{'name':'john', 'age':27}]\n",
    "\n",
    "person_by_age = groupby(persons, key=lambda x: x['age'])\n",
    "for a,b in person_by_age:\n",
    "    print(a, list(b))"
   ]
  },
  {
   "cell_type": "code",
   "execution_count": 111,
   "metadata": {},
   "outputs": [],
   "source": [
    "from itertools import count, cycle, repeat"
   ]
  },
  {
   "cell_type": "code",
   "execution_count": 113,
   "metadata": {},
   "outputs": [
    {
     "name": "stdout",
     "output_type": "stream",
     "text": [
      "10\n",
      "11\n",
      "12\n",
      "13\n",
      "14\n",
      "15\n"
     ]
    }
   ],
   "source": [
    "# Infinite Iterators\n",
    "\n",
    "## Count\n",
    "for i in count(10):\n",
    "    print(i)\n",
    "    if i == 15:\n",
    "        break"
   ]
  },
  {
   "cell_type": "code",
   "execution_count": 118,
   "metadata": {},
   "outputs": [
    {
     "name": "stdout",
     "output_type": "stream",
     "text": [
      "1\n",
      "2\n",
      "3\n",
      "1\n",
      "2\n",
      "3\n",
      "1\n",
      "2\n",
      "3\n",
      "1\n"
     ]
    }
   ],
   "source": [
    "## Cycle\n",
    "a = [1,2,3] \n",
    "b=0\n",
    "for i in cycle(a):\n",
    "    print(i)\n",
    "    b += 1\n",
    "    if b == 10:\n",
    "        break"
   ]
  },
  {
   "cell_type": "code",
   "execution_count": 120,
   "metadata": {},
   "outputs": [
    {
     "name": "stdout",
     "output_type": "stream",
     "text": [
      "1.5\n",
      "1.5\n",
      "1.5\n",
      "1.5\n",
      "1.5\n"
     ]
    }
   ],
   "source": [
    "for i in repeat(1.5, 5):\n",
    "    print(i)"
   ]
  },
  {
   "cell_type": "markdown",
   "metadata": {},
   "source": [
    "## Lambda, Map, Filter, Reduce"
   ]
  },
  {
   "cell_type": "code",
   "execution_count": 124,
   "metadata": {},
   "outputs": [
    {
     "name": "stdout",
     "output_type": "stream",
     "text": [
      "[(1, 2), (15, 1), (5, -1), (10, 4)]\n",
      "[(1, 2), (5, -1), (10, 4), (15, 1)]\n",
      "[(5, -1), (15, 1), (1, 2), (10, 4)]\n",
      "[(1, 2), (5, -1), (10, 4), (15, 1)]\n"
     ]
    }
   ],
   "source": [
    "points2D = [(1,2),(15,1),(5,-1),(10,4)]\n",
    "print(points2D)\n",
    "\n",
    "# sort according to 1st element\n",
    "points2D_sorted = sorted(points2D)\n",
    "print(points2D_sorted)\n",
    "\n",
    "# sort according to 2nd element\n",
    "points2D_sorted = sorted(points2D, key=lambda x: x[1])\n",
    "print(points2D_sorted)\n",
    "\n",
    "# sort given the sum of x and y\n",
    "points2D_sorted = sorted(points2D, key=lambda x: x[0] + x[1])\n",
    "print(points2D_sorted)"
   ]
  },
  {
   "cell_type": "code",
   "execution_count": 126,
   "metadata": {},
   "outputs": [
    {
     "name": "stdout",
     "output_type": "stream",
     "text": [
      "[2, 4, 6, 8, 10]\n"
     ]
    }
   ],
   "source": [
    "# map(func, seq)\n",
    "a = [1,2,3,4,5]\n",
    "\n",
    "b = map(lambda x: x*2, a)\n",
    "print(list(b))"
   ]
  },
  {
   "cell_type": "code",
   "execution_count": 127,
   "metadata": {},
   "outputs": [
    {
     "name": "stdout",
     "output_type": "stream",
     "text": [
      "[2, 4]\n"
     ]
    }
   ],
   "source": [
    "# filter(func, seq)\n",
    "a = [1,2,3,4,5]\n",
    "\n",
    "b = filter(lambda x: x%2==0, a)\n",
    "print(list(b))"
   ]
  },
  {
   "cell_type": "code",
   "execution_count": 130,
   "metadata": {},
   "outputs": [
    {
     "name": "stdout",
     "output_type": "stream",
     "text": [
      "24\n",
      "10\n"
     ]
    }
   ],
   "source": [
    "# reduce(func, seq)\n",
    "from functools import reduce\n",
    "\n",
    "a = [1,2,3,4]\n",
    "\n",
    "product_a = reduce(lambda x,y: x*y, a)\n",
    "print(product_a)\n",
    "\n",
    "sum_a = reduce(lambda x,y: x+y, a)\n",
    "print(sum_a)"
   ]
  },
  {
   "cell_type": "markdown",
   "metadata": {},
   "source": [
    "## Errors and Exception"
   ]
  },
  {
   "cell_type": "code",
   "execution_count": 144,
   "metadata": {},
   "outputs": [],
   "source": [
    "## Name Error \n",
    "# a = c\n",
    "\n",
    "## Type Error \n",
    "# a = 5 + '10'\n",
    "\n",
    "## Value Error\n",
    "# a = [1,2,3]\n",
    "# a.remove(4)\n",
    "\n",
    "## Syntax Error\n",
    "# print a\n",
    "\n",
    "## NotFoundError\n",
    "# import somemodule\n",
    "# file = open('somefile.txt')\n",
    "\n",
    "## Index Error\n",
    "# a = [1,2,3]\n",
    "# a[4]\n",
    "\n",
    "## Key Error\n",
    "# my_dict = {'name': 'Tim'}\n",
    "# my_dict['age']"
   ]
  },
  {
   "cell_type": "code",
   "execution_count": 145,
   "metadata": {},
   "outputs": [
    {
     "ename": "Exception",
     "evalue": "x should be positive",
     "output_type": "error",
     "traceback": [
      "\u001b[0;31m---------------------------------------------------------------------------\u001b[0m",
      "\u001b[0;31mException\u001b[0m                                 Traceback (most recent call last)",
      "\u001b[0;32m<ipython-input-145-578189c15ff4>\u001b[0m in \u001b[0;36m<module>\u001b[0;34m\u001b[0m\n\u001b[1;32m      3\u001b[0m \u001b[0;34m\u001b[0m\u001b[0m\n\u001b[1;32m      4\u001b[0m \u001b[0;32mif\u001b[0m \u001b[0mx\u001b[0m \u001b[0;34m<\u001b[0m \u001b[0;36m0\u001b[0m\u001b[0;34m:\u001b[0m\u001b[0;34m\u001b[0m\u001b[0;34m\u001b[0m\u001b[0m\n\u001b[0;32m----> 5\u001b[0;31m     \u001b[0;32mraise\u001b[0m \u001b[0mException\u001b[0m\u001b[0;34m(\u001b[0m\u001b[0;34m'x should be positive'\u001b[0m\u001b[0;34m)\u001b[0m\u001b[0;34m\u001b[0m\u001b[0;34m\u001b[0m\u001b[0m\n\u001b[0m",
      "\u001b[0;31mException\u001b[0m: x should be positive"
     ]
    }
   ],
   "source": [
    "# Raise Exception\n",
    "x = -5\n",
    "\n",
    "if x < 0:\n",
    "    raise Exception('x should be positive')"
   ]
  },
  {
   "cell_type": "code",
   "execution_count": 146,
   "metadata": {},
   "outputs": [
    {
     "ename": "AssertionError",
     "evalue": "x is not positive",
     "output_type": "error",
     "traceback": [
      "\u001b[0;31m---------------------------------------------------------------------------\u001b[0m",
      "\u001b[0;31mAssertionError\u001b[0m                            Traceback (most recent call last)",
      "\u001b[0;32m<ipython-input-146-fc3c8c7c8bb5>\u001b[0m in \u001b[0;36m<module>\u001b[0;34m\u001b[0m\n\u001b[1;32m      2\u001b[0m \u001b[0mx\u001b[0m \u001b[0;34m=\u001b[0m \u001b[0;34m-\u001b[0m\u001b[0;36m5\u001b[0m\u001b[0;34m\u001b[0m\u001b[0;34m\u001b[0m\u001b[0m\n\u001b[1;32m      3\u001b[0m \u001b[0;34m\u001b[0m\u001b[0m\n\u001b[0;32m----> 4\u001b[0;31m \u001b[0;32massert\u001b[0m\u001b[0;34m(\u001b[0m\u001b[0mx\u001b[0m\u001b[0;34m>=\u001b[0m\u001b[0;36m0\u001b[0m\u001b[0;34m)\u001b[0m\u001b[0;34m,\u001b[0m \u001b[0;34m\"x is not positive\"\u001b[0m\u001b[0;34m\u001b[0m\u001b[0;34m\u001b[0m\u001b[0m\n\u001b[0m",
      "\u001b[0;31mAssertionError\u001b[0m: x is not positive"
     ]
    }
   ],
   "source": [
    "# Assert\n",
    "x = -5\n",
    "\n",
    "assert(x>=0), \"x is not positive\""
   ]
  },
  {
   "cell_type": "code",
   "execution_count": 147,
   "metadata": {},
   "outputs": [
    {
     "name": "stdout",
     "output_type": "stream",
     "text": [
      "an error happened\n"
     ]
    }
   ],
   "source": [
    "# Catch or Handle Exception\n",
    "try:\n",
    "    x = 5/0\n",
    "except:\n",
    "    print('an error happened')"
   ]
  },
  {
   "cell_type": "code",
   "execution_count": 153,
   "metadata": {},
   "outputs": [
    {
     "name": "stdout",
     "output_type": "stream",
     "text": [
      "division by zero\n",
      "cleaning up...\n"
     ]
    }
   ],
   "source": [
    "# Catch or Handle Exception\n",
    "try:\n",
    "    x = 5/0\n",
    "except Exception as e:\n",
    "    print(e)\n",
    "else:\n",
    "    print('No error')\n",
    "finally:\n",
    "    print(\"cleaning up...\")"
   ]
  },
  {
   "cell_type": "code",
   "execution_count": 163,
   "metadata": {},
   "outputs": [
    {
     "name": "stdout",
     "output_type": "stream",
     "text": [
      "value is too low 1\n"
     ]
    }
   ],
   "source": [
    "# Define your own exception class with inherit base class 'Exception'\n",
    "class ValueTooHighError(Exception):\n",
    "    pass\n",
    "\n",
    "class ValueTooLowError(Exception):\n",
    "    def __init__(self, message, value):\n",
    "        self.message = message\n",
    "        self.value = value\n",
    "\n",
    "def test_value(x):\n",
    "    if x > 100:\n",
    "        raise ValueTooHighError('value is too high')\n",
    "    if x < 5:\n",
    "        raise ValueTooLowError('value is too low', x)\n",
    "\n",
    "# test_value(200)\n",
    "\n",
    "try:\n",
    "    test_value(1)\n",
    "# except Exception as e:\n",
    "#     print(e)\n",
    "except ValueTooLowError as e:\n",
    "    print(e.message, e.value)"
   ]
  },
  {
   "cell_type": "markdown",
   "metadata": {},
   "source": [
    "## Random Numbers"
   ]
  },
  {
   "cell_type": "code",
   "execution_count": 165,
   "metadata": {},
   "outputs": [],
   "source": [
    "import random"
   ]
  },
  {
   "cell_type": "code",
   "execution_count": 169,
   "metadata": {},
   "outputs": [
    {
     "name": "stdout",
     "output_type": "stream",
     "text": [
      "0.9679615842420137\n",
      "3.237200848391711\n",
      "5\n",
      "1\n"
     ]
    }
   ],
   "source": [
    "# float random between 0 to 1\n",
    "a = random.random()\n",
    "print(a)\n",
    "\n",
    "# float random between custom range\n",
    "a = random.uniform(1,10)\n",
    "print(a)\n",
    "\n",
    "# int random between custom range (includes upper bound)\n",
    "a = random.randint(1,10)\n",
    "print(a)\n",
    "\n",
    "# int random between custom range (excludes upper bound)\n",
    "a = random.randrange(1,10)\n",
    "print(a)"
   ]
  },
  {
   "cell_type": "code",
   "execution_count": 186,
   "metadata": {},
   "outputs": [
    {
     "name": "stdout",
     "output_type": "stream",
     "text": [
      "1.4607093712612038\n"
     ]
    }
   ],
   "source": [
    "# normal distribution random with mean=0 and std_dev=1\n",
    "a = random.normalvariate(0,1)\n",
    "print(a)"
   ]
  },
  {
   "cell_type": "code",
   "execution_count": 204,
   "metadata": {},
   "outputs": [
    {
     "name": "stdout",
     "output_type": "stream",
     "text": [
      "B\n",
      "['C', 'G', 'F']\n",
      "['D', 'F', 'B']\n",
      "['A', 'B', 'C', 'D', 'E', 'F', 'G']\n",
      "['E', 'B', 'D', 'G', 'C', 'F', 'A']\n"
     ]
    }
   ],
   "source": [
    "# list random or sequence random\n",
    "my_list = list('ABCDEFG')\n",
    "mylist = list('ABCDEFG')\n",
    "\n",
    "a = random.choice(my_list)\n",
    "print(a)\n",
    "\n",
    "# sample values non-unique/repeat_is_okay\n",
    "a = random.choices(my_list, k=3)\n",
    "print(a)\n",
    "\n",
    "# sample unique values\n",
    "a = random.sample(my_list, 3)\n",
    "print(a)\n",
    "\n",
    "# random shuffle list inplace\n",
    "print(mylist)\n",
    "random.shuffle(mylist)\n",
    "print(mylist)"
   ]
  },
  {
   "cell_type": "code",
   "execution_count": 205,
   "metadata": {},
   "outputs": [
    {
     "name": "stdout",
     "output_type": "stream",
     "text": [
      "0.13436424411240122\n",
      "2\n",
      "0.13436424411240122\n",
      "2\n"
     ]
    }
   ],
   "source": [
    "# Reproducible random\n",
    "random.seed(1)\n",
    "print(random.random())\n",
    "print(random.randint(1,10))\n",
    "\n",
    "random.seed(1) #call seed again to reproduce\n",
    "print(random.random())\n",
    "print(random.randint(1,10))"
   ]
  },
  {
   "cell_type": "code",
   "execution_count": 229,
   "metadata": {},
   "outputs": [
    {
     "name": "stdout",
     "output_type": "stream",
     "text": [
      "4\n",
      "0b100\n",
      "B\n"
     ]
    }
   ],
   "source": [
    "# Cryptographically secure random numbers\n",
    "import secrets\n",
    "\n",
    "# int rand from 0 to excluded upperbound\n",
    "a = secrets.randbelow(10)\n",
    "print(a)\n",
    "\n",
    "# generate random k bits\n",
    "a = secrets.randbits(4)\n",
    "print(bin(a))\n",
    "\n",
    "# list or sequence random\n",
    "my_list = list('ABCDEFG')\n",
    "a = secrets.choice(my_list)\n",
    "print(a)"
   ]
  },
  {
   "cell_type": "code",
   "execution_count": 238,
   "metadata": {},
   "outputs": [
    {
     "name": "stdout",
     "output_type": "stream",
     "text": [
      "[[0.1575358  0.77628206 0.24473665]\n",
      " [0.10539768 0.08092898 0.11317986]\n",
      " [0.93332668 0.24837528 0.60881576]]\n",
      "[[2 4 1 3]\n",
      " [8 2 9 5]\n",
      " [6 6 9 9]]\n",
      "[[1 2 3]\n",
      " [4 5 6]\n",
      " [7 8 9]]\n",
      "[[7 8 9]\n",
      " [1 2 3]\n",
      " [4 5 6]]\n"
     ]
    }
   ],
   "source": [
    "# Numpy random module for arrays and matrices\n",
    "import numpy as np\n",
    "\n",
    "# ndarray of float random values between 0 to 1\n",
    "a = np.random.rand(3,3)\n",
    "print(a)\n",
    "\n",
    "# ndarray of random int (upperbound excluded)\n",
    "a = np.random.randint(0,10, (3,4))\n",
    "print(a)\n",
    "\n",
    "# array random row shuffle (shuffle only 1st dimension)\n",
    "a = np.array([[1,2,3],[4,5,6],[7,8,9]])\n",
    "print(a)\n",
    "np.random.shuffle(a)\n",
    "print(a)"
   ]
  },
  {
   "cell_type": "markdown",
   "metadata": {},
   "source": [
    "## Decorators, Generators, others pending"
   ]
  },
  {
   "cell_type": "markdown",
   "metadata": {},
   "source": [
    "## On line Progress Bar with tqdm"
   ]
  },
  {
   "cell_type": "code",
   "execution_count": 4,
   "metadata": {},
   "outputs": [],
   "source": [
    "from tqdm import tqdm, trange\n",
    "import time"
   ]
  },
  {
   "cell_type": "code",
   "execution_count": 3,
   "metadata": {},
   "outputs": [
    {
     "name": "stderr",
     "output_type": "stream",
     "text": [
      "100%|██████████| 5/5 [00:02<00:00,  1.99it/s]\n"
     ]
    }
   ],
   "source": [
    "for i in tqdm([1,2,3,4,5]):\n",
    "    time.sleep(0.5)"
   ]
  },
  {
   "cell_type": "code",
   "execution_count": 5,
   "metadata": {},
   "outputs": [
    {
     "name": "stderr",
     "output_type": "stream",
     "text": [
      "100%|██████████| 10/10 [00:05<00:00,  1.99it/s]\n"
     ]
    }
   ],
   "source": [
    "for i in trange(10):\n",
    "    time.sleep(0.5)"
   ]
  },
  {
   "cell_type": "code",
   "execution_count": 7,
   "metadata": {},
   "outputs": [
    {
     "name": "stderr",
     "output_type": "stream",
     "text": [
      "100%|██████████| 100/100 [00:05<00:00, 19.91it/s]\n"
     ]
    }
   ],
   "source": [
    "pbar = tqdm(total=100)\n",
    "for i in range(10):\n",
    "    time.sleep(0.5)\n",
    "    pbar.update(10)\n",
    "pbar.close()"
   ]
  },
  {
   "cell_type": "code",
   "execution_count": 6,
   "metadata": {},
   "outputs": [
    {
     "name": "stderr",
     "output_type": "stream",
     "text": [
      "100%|██████████| 100/100 [00:05<00:00, 19.91it/s]\n"
     ]
    }
   ],
   "source": [
    "with tqdm(total=100) as pbar:\n",
    "    for i in range(10):\n",
    "        time.sleep(0.5)\n",
    "        pbar.update(10)"
   ]
  },
  {
   "cell_type": "code",
   "execution_count": null,
   "metadata": {},
   "outputs": [],
   "source": []
  }
 ],
 "metadata": {
  "kernelspec": {
   "display_name": "Python 3",
   "language": "python",
   "name": "python3"
  },
  "language_info": {
   "codemirror_mode": {
    "name": "ipython",
    "version": 3
   },
   "file_extension": ".py",
   "mimetype": "text/x-python",
   "name": "python",
   "nbconvert_exporter": "python",
   "pygments_lexer": "ipython3",
   "version": "3.7.6"
  }
 },
 "nbformat": 4,
 "nbformat_minor": 4
}
